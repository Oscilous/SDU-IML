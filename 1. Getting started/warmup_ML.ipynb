{
 "cells": [
  {
   "cell_type": "markdown",
   "id": "486c1af1",
   "metadata": {},
   "source": [
    "# Session 1: Warmup"
   ]
  },
  {
   "cell_type": "markdown",
   "id": "d8cb61b5",
   "metadata": {},
   "source": [
    "## Before starting\n",
    "Please watch this short introduction to Jupyter Notebooks: https://www.youtube.com/watch?v=jZ952vChhuI"
   ]
  },
  {
   "cell_type": "markdown",
   "id": "caa71dbf",
   "metadata": {},
   "source": [
    "## Load Python libraries"
   ]
  },
  {
   "cell_type": "code",
   "execution_count": 3,
   "id": "38657bbb",
   "metadata": {},
   "outputs": [],
   "source": [
    "import numpy as np\n",
    "from numpy import random\n",
    "import pandas as pd\n",
    "import matplotlib.pyplot as plt"
   ]
  },
  {
   "cell_type": "markdown",
   "id": "70d052a0",
   "metadata": {},
   "source": [
    "## 1. Introduction to numpy\n",
    "Numerical Python (NumPy) is built on linear algebra. It is mainly used to perform mathematical calculations on vectors and matrices. "
   ]
  },
  {
   "cell_type": "code",
   "execution_count": 4,
   "id": "c3bf3451",
   "metadata": {},
   "outputs": [
    {
     "name": "stdout",
     "output_type": "stream",
     "text": [
      "(3,)\n",
      "4\n",
      "1\n",
      "4\n"
     ]
    }
   ],
   "source": [
    "#---------------------------------------------------\n",
    "# Given the vector\n",
    "a = np.array([2, 1, 4])\n",
    "# with shape:\n",
    "print(a.shape)\n",
    "lenght = a.shape\n",
    "\n",
    "# Ex.1.1\n",
    "# Access to column value at position pos=2 using a[pos]\n",
    "# Be aware that indexes in NumPy arrays start with 0, meaning that the first element has index 0, and the second has index 1, ...\n",
    "print(a[2])\n",
    "\n",
    "# Ex.1.2\n",
    "# Access to the values from inititial position ini_pos=2 until the end of the vector final_pos = a.shape[-1] using a[initial_pos:final_pos]\n",
    "# Note that the final raw or column of an array can be accesed by index -1\n",
    "\n",
    "initPos = 2\n",
    "final_pos = a.shape[-1]\n",
    "for i in range(initPos - 1, final_pos):\n",
    "    print(a[i])\n",
    "\n",
    "# Check the data format of vector \"a\" by using type(a). Do the same for \"a.shape\". \n",
    "#For more information go to: https://www.w3schools.com/python/python_datatypes.asp\n"
   ]
  },
  {
   "cell_type": "code",
   "execution_count": 5,
   "id": "31b73e48",
   "metadata": {},
   "outputs": [
    {
     "name": "stdout",
     "output_type": "stream",
     "text": [
      "[[ 1  2  3]\n",
      " [ 8  9 10]\n",
      " [11 12 13]]\n",
      "9\n",
      "9\n",
      "[ 2  9 12]\n",
      "[ 1  9 13]\n",
      "[ 8 12]\n",
      "[ 2 10] \n",
      "\n",
      "transpose with funcion: \n",
      "[[ 1  8 11]\n",
      " [ 2  9 12]\n",
      " [ 3 10 13]]\n",
      "\n",
      "transpose with method: \n",
      "[[ 1  8 11]\n",
      " [ 2  9 12]\n",
      " [ 3 10 13]]\n",
      "\n"
     ]
    }
   ],
   "source": [
    "#---------------------------------------------------\n",
    "# Ex.1.3\n",
    "# Given the matrix\n",
    "X = np.array([[1, 2, 3], [8, 9, 10],[ 11, 12, 13]])\n",
    "print(X)\n",
    "\n",
    "# Access to all the elements at column 2 using X[:,column]\n",
    "\n",
    "#First one is the numpy version, second is how default python would do\n",
    "print(X[1,1])\n",
    "print(X[1][1])\n",
    "print(X[:, 1])\n",
    "\n",
    "\n",
    "# numpy uses the \":\" mark to access to all the elements of a column or a row \n",
    "# Access only to the diagonal using np.diag()\n",
    "\n",
    "print(np.diag(X))\n",
    "\n",
    "#this is the offset for to get diagonal  values\n",
    "print(np.diag(X, -1))\n",
    "print(np.diag(X, 1), \"\\n\")\n",
    "# Transpose the matrix using both np.transpose() and X.T\n",
    "\n",
    "print(f\"transpose with funcion: \\n{np.transpose(X)}\\n\")\n",
    "print(f\"transpose with method: \\n{X.T}\\n\")"
   ]
  },
  {
   "cell_type": "code",
   "execution_count": 2,
   "id": "02ea8164",
   "metadata": {},
   "outputs": [
    {
     "ename": "NameError",
     "evalue": "name 'a' is not defined",
     "output_type": "error",
     "traceback": [
      "\u001b[1;31m---------------------------------------------------------------------------\u001b[0m",
      "\u001b[1;31mNameError\u001b[0m                                 Traceback (most recent call last)",
      "\u001b[1;32m~\\AppData\\Local\\Temp\\ipykernel_13968\\1600356583.py\u001b[0m in \u001b[0;36m<module>\u001b[1;34m\u001b[0m\n\u001b[0;32m      2\u001b[0m \u001b[1;31m# Ex.1.4\u001b[0m\u001b[1;33m\u001b[0m\u001b[1;33m\u001b[0m\u001b[0m\n\u001b[0;32m      3\u001b[0m \u001b[1;31m# Perform an element wise multiplication (*) between a and X\u001b[0m\u001b[1;33m\u001b[0m\u001b[1;33m\u001b[0m\u001b[0m\n\u001b[1;32m----> 4\u001b[1;33m \u001b[0mprint\u001b[0m\u001b[1;33m(\u001b[0m\u001b[1;34mf\"a: \\n{a}\\n\"\u001b[0m\u001b[1;33m)\u001b[0m\u001b[1;33m\u001b[0m\u001b[1;33m\u001b[0m\u001b[0m\n\u001b[0m\u001b[0;32m      5\u001b[0m \u001b[0mprint\u001b[0m\u001b[1;33m(\u001b[0m\u001b[1;34mf\"a: \\n{X}\\n\"\u001b[0m\u001b[1;33m)\u001b[0m\u001b[1;33m\u001b[0m\u001b[1;33m\u001b[0m\u001b[0m\n\u001b[0;32m      6\u001b[0m \u001b[0mprint\u001b[0m\u001b[1;33m(\u001b[0m\u001b[1;34mf\"multiplied: \\n{a*X}\\n\"\u001b[0m\u001b[1;33m)\u001b[0m\u001b[1;33m\u001b[0m\u001b[1;33m\u001b[0m\u001b[0m\n",
      "\u001b[1;31mNameError\u001b[0m: name 'a' is not defined"
     ]
    }
   ],
   "source": [
    "#--------------------------------------------------\n",
    "# Ex.1.4\n",
    "# Perform an element wise multiplication (*) between a and X\n",
    "print(f\"a: \\n{a}\\n\")\n",
    "print(f\"a: \\n{X}\\n\")\n",
    "print(f\"multiplied: \\n{a*X}\\n\")\n",
    "# Perform a dot wise multiplication between a and X using np.dot(vector1,vector2)\n",
    "print(f\"dot wise multiplication: \\n{np.dot(a,X)}\\n\")"
   ]
  },
  {
   "cell_type": "code",
   "execution_count": null,
   "id": "c4c9013c",
   "metadata": {},
   "outputs": [],
   "source": [
    "#--------------------------------------------------\n",
    "# Let us redefine vector \"a\" as a vector with 1 row and |a| columns\n",
    "a = a.reshape((1,a.shape[-1]))\n",
    "print(f\"a = \\n{a}\\n\")\n",
    "# Ex.1.5\n",
    "# Create a new matrix Y, where 'a' is added as the last row of matrix X\n",
    "# Use np.concatenate((X,a), axis = 0) \n",
    "\n",
    "Y = np.concatenate((X,a), axis = 0)\n",
    "print(f\"Y: \\n{Y}\\n\")\n",
    "# Review the function of 'axis' in https://numpy.org/doc/stable/reference/generated/numpy.concatenate.html\n",
    "\n",
    "# Ex.1.6\n",
    "# Append 'a' as the last column of matrix X\n",
    "\n",
    "print(f\"Appened: \\n{np.append(X, a)}\\n\")"
   ]
  },
  {
   "cell_type": "markdown",
   "id": "891d3201",
   "metadata": {},
   "source": [
    "## 2. Introduction to Pandas\n",
    "This is a library for data manipulation and analysis using more powerful data structures than NumPy. "
   ]
  },
  {
   "cell_type": "code",
   "execution_count": null,
   "id": "8222cdd3",
   "metadata": {},
   "outputs": [],
   "source": [
    "# Creating a Pandas DataFrame\n",
    "column_names = ['Col1','Col2']\n",
    "raw_names = ['Row1','Row2']\n",
    "data = np.array([[1,2],[3,4]])\n",
    "df = pd.DataFrame(data = data, index = raw_names, columns = column_names)\n",
    "df"
   ]
  },
  {
   "cell_type": "code",
   "execution_count": null,
   "id": "e0420e36",
   "metadata": {},
   "outputs": [],
   "source": [
    "# Ex.2.1\n",
    "# Create an 10x4 (10 rows x 4 columns) pandas DataFrame in which the columns are named mean, std, max, and min.\n",
    "\n",
    "column_names = ['mean','std','max', 'min']\n",
    "data = random.randint(1000, size=(10, 4))\n",
    "myDF = pd.DataFrame(data = data, columns = column_names)\n",
    "myDF\n",
    "# Populate each of the 12 cells in the DataFrame with a random integer between 0 and 1000\n",
    "# Use the command np.random.randint for the random integer generation, check the description here https://numpy.org/doc/stable/reference/random/generated/numpy.random.randint.html\n"
   ]
  },
  {
   "cell_type": "code",
   "execution_count": null,
   "id": "19908898",
   "metadata": {},
   "outputs": [],
   "source": [
    "# Ex.2.2\n",
    "# Access to all the values of the first row using df.loc[row]\n",
    "print(myDF.loc[0])\n",
    "\n",
    "# Access to all the values of the first column \"mean\" using df[column_name]\n",
    "print(f\"\\n{myDF['mean']}\\n\")\n",
    "\n",
    "# Access to the values in row 0 column 2 using df.iloc[row,column]\n",
    "print(df.iloc[0,1])"
   ]
  },
  {
   "cell_type": "markdown",
   "id": "ee91be81",
   "metadata": {},
   "source": [
    "## Introduction to Matplotlib"
   ]
  },
  {
   "cell_type": "code",
   "execution_count": null,
   "id": "1156c669",
   "metadata": {},
   "outputs": [],
   "source": [
    "# Ploting Pandas data\n",
    "myDF['mean'].plot()\n",
    "myDF['std'].plot()\n",
    "plt.xlabel(\"x axis\")\n",
    "plt.ylabel(\"y axis\")\n",
    "plt.title(\"Line Graph Example\")\n",
    "plt.legend()\n",
    "plt.show()"
   ]
  },
  {
   "cell_type": "code",
   "execution_count": 11,
   "id": "d28c26fd",
   "metadata": {},
   "outputs": [
    {
     "ename": "ValueError",
     "evalue": "Shape of passed values is (2, 6), indices imply (2, 2)",
     "output_type": "error",
     "traceback": [
      "\u001b[1;31m---------------------------------------------------------------------------\u001b[0m",
      "\u001b[1;31mValueError\u001b[0m                                Traceback (most recent call last)",
      "\u001b[1;32m~\\AppData\\Local\\Temp\\ipykernel_20428\\212331348.py\u001b[0m in \u001b[0;36m<module>\u001b[1;34m\u001b[0m\n\u001b[0;32m      1\u001b[0m \u001b[0mnames\u001b[0m \u001b[1;33m=\u001b[0m \u001b[1;33m[\u001b[0m\u001b[1;34m'x'\u001b[0m\u001b[1;33m,\u001b[0m\u001b[1;34m'f(x)'\u001b[0m\u001b[1;33m]\u001b[0m\u001b[1;33m\u001b[0m\u001b[1;33m\u001b[0m\u001b[0m\n\u001b[0;32m      2\u001b[0m \u001b[0mexdata\u001b[0m \u001b[1;33m=\u001b[0m \u001b[0mnp\u001b[0m\u001b[1;33m.\u001b[0m\u001b[0marray\u001b[0m\u001b[1;33m(\u001b[0m\u001b[1;33m[\u001b[0m\u001b[1;33m[\u001b[0m\u001b[1;36m1\u001b[0m\u001b[1;33m,\u001b[0m\u001b[1;36m2\u001b[0m\u001b[1;33m,\u001b[0m\u001b[1;36m3\u001b[0m\u001b[1;33m,\u001b[0m\u001b[1;36m4\u001b[0m\u001b[1;33m,\u001b[0m\u001b[1;36m5\u001b[0m\u001b[1;33m,\u001b[0m\u001b[1;36m6\u001b[0m\u001b[1;33m]\u001b[0m\u001b[1;33m,\u001b[0m\u001b[1;33m[\u001b[0m\u001b[1;36m16\u001b[0m\u001b[1;33m,\u001b[0m\u001b[1;36m9\u001b[0m\u001b[1;33m,\u001b[0m\u001b[1;36m4\u001b[0m\u001b[1;33m,\u001b[0m\u001b[1;36m1\u001b[0m\u001b[1;33m,\u001b[0m\u001b[1;36m4\u001b[0m\u001b[1;33m,\u001b[0m\u001b[1;36m9\u001b[0m\u001b[1;33m]\u001b[0m\u001b[1;33m]\u001b[0m\u001b[1;33m)\u001b[0m\u001b[1;33m\u001b[0m\u001b[1;33m\u001b[0m\u001b[0m\n\u001b[1;32m----> 3\u001b[1;33m \u001b[0mdf\u001b[0m \u001b[1;33m=\u001b[0m \u001b[0mpd\u001b[0m\u001b[1;33m.\u001b[0m\u001b[0mDataFrame\u001b[0m\u001b[1;33m(\u001b[0m\u001b[0mdata\u001b[0m \u001b[1;33m=\u001b[0m \u001b[0mexdata\u001b[0m\u001b[1;33m,\u001b[0m \u001b[0mcolumns\u001b[0m \u001b[1;33m=\u001b[0m \u001b[0mnames\u001b[0m\u001b[1;33m)\u001b[0m\u001b[1;33m\u001b[0m\u001b[1;33m\u001b[0m\u001b[0m\n\u001b[0m\u001b[0;32m      4\u001b[0m \u001b[0mdf\u001b[0m\u001b[1;33m\u001b[0m\u001b[1;33m\u001b[0m\u001b[0m\n",
      "\u001b[1;32m~\\anaconda3\\lib\\site-packages\\pandas\\core\\frame.py\u001b[0m in \u001b[0;36m__init__\u001b[1;34m(self, data, index, columns, dtype, copy)\u001b[0m\n\u001b[0;32m    692\u001b[0m                 )\n\u001b[0;32m    693\u001b[0m             \u001b[1;32melse\u001b[0m\u001b[1;33m:\u001b[0m\u001b[1;33m\u001b[0m\u001b[1;33m\u001b[0m\u001b[0m\n\u001b[1;32m--> 694\u001b[1;33m                 mgr = ndarray_to_mgr(\n\u001b[0m\u001b[0;32m    695\u001b[0m                     \u001b[0mdata\u001b[0m\u001b[1;33m,\u001b[0m\u001b[1;33m\u001b[0m\u001b[1;33m\u001b[0m\u001b[0m\n\u001b[0;32m    696\u001b[0m                     \u001b[0mindex\u001b[0m\u001b[1;33m,\u001b[0m\u001b[1;33m\u001b[0m\u001b[1;33m\u001b[0m\u001b[0m\n",
      "\u001b[1;32m~\\anaconda3\\lib\\site-packages\\pandas\\core\\internals\\construction.py\u001b[0m in \u001b[0;36mndarray_to_mgr\u001b[1;34m(values, index, columns, dtype, copy, typ)\u001b[0m\n\u001b[0;32m    349\u001b[0m     )\n\u001b[0;32m    350\u001b[0m \u001b[1;33m\u001b[0m\u001b[0m\n\u001b[1;32m--> 351\u001b[1;33m     \u001b[0m_check_values_indices_shape_match\u001b[0m\u001b[1;33m(\u001b[0m\u001b[0mvalues\u001b[0m\u001b[1;33m,\u001b[0m \u001b[0mindex\u001b[0m\u001b[1;33m,\u001b[0m \u001b[0mcolumns\u001b[0m\u001b[1;33m)\u001b[0m\u001b[1;33m\u001b[0m\u001b[1;33m\u001b[0m\u001b[0m\n\u001b[0m\u001b[0;32m    352\u001b[0m \u001b[1;33m\u001b[0m\u001b[0m\n\u001b[0;32m    353\u001b[0m     \u001b[1;32mif\u001b[0m \u001b[0mtyp\u001b[0m \u001b[1;33m==\u001b[0m \u001b[1;34m\"array\"\u001b[0m\u001b[1;33m:\u001b[0m\u001b[1;33m\u001b[0m\u001b[1;33m\u001b[0m\u001b[0m\n",
      "\u001b[1;32m~\\anaconda3\\lib\\site-packages\\pandas\\core\\internals\\construction.py\u001b[0m in \u001b[0;36m_check_values_indices_shape_match\u001b[1;34m(values, index, columns)\u001b[0m\n\u001b[0;32m    420\u001b[0m         \u001b[0mpassed\u001b[0m \u001b[1;33m=\u001b[0m \u001b[0mvalues\u001b[0m\u001b[1;33m.\u001b[0m\u001b[0mshape\u001b[0m\u001b[1;33m\u001b[0m\u001b[1;33m\u001b[0m\u001b[0m\n\u001b[0;32m    421\u001b[0m         \u001b[0mimplied\u001b[0m \u001b[1;33m=\u001b[0m \u001b[1;33m(\u001b[0m\u001b[0mlen\u001b[0m\u001b[1;33m(\u001b[0m\u001b[0mindex\u001b[0m\u001b[1;33m)\u001b[0m\u001b[1;33m,\u001b[0m \u001b[0mlen\u001b[0m\u001b[1;33m(\u001b[0m\u001b[0mcolumns\u001b[0m\u001b[1;33m)\u001b[0m\u001b[1;33m)\u001b[0m\u001b[1;33m\u001b[0m\u001b[1;33m\u001b[0m\u001b[0m\n\u001b[1;32m--> 422\u001b[1;33m         \u001b[1;32mraise\u001b[0m \u001b[0mValueError\u001b[0m\u001b[1;33m(\u001b[0m\u001b[1;34mf\"Shape of passed values is {passed}, indices imply {implied}\"\u001b[0m\u001b[1;33m)\u001b[0m\u001b[1;33m\u001b[0m\u001b[1;33m\u001b[0m\u001b[0m\n\u001b[0m\u001b[0;32m    423\u001b[0m \u001b[1;33m\u001b[0m\u001b[0m\n\u001b[0;32m    424\u001b[0m \u001b[1;33m\u001b[0m\u001b[0m\n",
      "\u001b[1;31mValueError\u001b[0m: Shape of passed values is (2, 6), indices imply (2, 2)"
     ]
    }
   ],
   "source": [
    "\n",
    "names = ['x','f(x)']\n",
    "exdata = np.array([[1,2,3,4,5,6],[16,9,4,1,4,9]])\n",
    "df = pd.DataFrame(data = exdata, columns = names)\n",
    "df"
   ]
  },
  {
   "cell_type": "code",
   "execution_count": null,
   "id": "40484f8b",
   "metadata": {},
   "outputs": [],
   "source": []
  },
  {
   "cell_type": "raw",
   "id": "92e5dbd7",
   "metadata": {},
   "source": []
  }
 ],
 "metadata": {
  "kernelspec": {
   "display_name": "Python 3 (ipykernel)",
   "language": "python",
   "name": "python3"
  },
  "language_info": {
   "codemirror_mode": {
    "name": "ipython",
    "version": 3
   },
   "file_extension": ".py",
   "mimetype": "text/x-python",
   "name": "python",
   "nbconvert_exporter": "python",
   "pygments_lexer": "ipython3",
   "version": "3.9.13"
  },
  "vscode": {
   "interpreter": {
    "hash": "0c7301f2ff9b2c18b10da20ab50eb0eeaa7bf6286486402a17588a091c6541ce"
   }
  }
 },
 "nbformat": 4,
 "nbformat_minor": 5
}
