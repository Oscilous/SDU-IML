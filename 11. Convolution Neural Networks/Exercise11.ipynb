{
 "cells": [
  {
   "cell_type": "markdown",
   "id": "6162c569",
   "metadata": {},
   "source": [
    "# Exercise 11 - Convolutional Neural Networks"
   ]
  },
  {
   "cell_type": "code",
   "execution_count": 1,
   "id": "784b8090",
   "metadata": {},
   "outputs": [],
   "source": [
    "import tensorflow as tf\n",
    "\n",
    "from tensorflow.keras import datasets, layers, models\n",
    "import matplotlib.pyplot as plt"
   ]
  },
  {
   "cell_type": "markdown",
   "id": "a25a4d26",
   "metadata": {},
   "source": [
    "## 1 Download and prepare the CIFAR10 dataset\n",
    "The CIFAR10 dataset contains 60,000 color images in 10 classes, with 6,000 images in each class. The dataset is divided into 50,000 training images and 10,000 testing images. The classes are mutually exclusive and there is no overlap between them."
   ]
  },
  {
   "cell_type": "markdown",
   "id": "476f08ab",
   "metadata": {},
   "source": [
    "## 2 In which range do the pixels lie? \n",
    "Or by which number do you need to divide the image data to normalize to a range between zero and 1?"
   ]
  },
  {
   "cell_type": "markdown",
   "id": "78bdc304",
   "metadata": {},
   "source": [
    "## 3 Normalize pixel values to be between 0 and 1"
   ]
  },
  {
   "cell_type": "markdown",
   "id": "ae1154be",
   "metadata": {},
   "source": [
    "## 4 Uncomment and run the following code snippet to look at the dataset"
   ]
  },
  {
   "cell_type": "code",
   "execution_count": null,
   "id": "d3997325",
   "metadata": {},
   "outputs": [],
   "source": [
    "# class_names = ['airplane', 'automobile', 'bird', 'cat', 'deer',\n",
    "#                'dog', 'frog', 'horse', 'ship', 'truck']\n",
    "\n",
    "# plt.figure(figsize=(10,10))\n",
    "# for i in range(25):\n",
    "#     plt.subplot(5,5,i+1)\n",
    "#     plt.xticks([])\n",
    "#     plt.yticks([])\n",
    "#     plt.grid(False)\n",
    "#     plt.imshow(train_images[i])\n",
    "#     # The CIFAR labels happen to be arrays, \n",
    "#     # which is why you need the extra index\n",
    "#     plt.xlabel(class_names[train_labels[i][0]])\n",
    "# plt.show()"
   ]
  },
  {
   "cell_type": "markdown",
   "id": "dd7e309b",
   "metadata": {},
   "source": [
    "## 5 Write a function calling the convolutional base.\n",
    "Call your function my_cnn() that uses the CNN base described below, print the model summary and return the model.\n",
    "Use a common pattern: a stack of Conv2D and MaxPooling2D layers, to create the convolutional base. Use the sequential model.\n",
    "\n",
    "As input, a CNN takes tensors of shape (image_height, image_width, color_channels), ignoring the batch size. If you are new to these dimensions, color_channels refers to (R,G,B). In this example, you will configure your CNN to process inputs of shape (32, 32, 3), which is the format of CIFAR images. You can do this by passing the argument input_shape to your first layer."
   ]
  },
  {
   "cell_type": "code",
   "execution_count": null,
   "id": "2eef1263",
   "metadata": {},
   "outputs": [],
   "source": [
    "# --- Your code goes here ---"
   ]
  },
  {
   "cell_type": "markdown",
   "id": "b18806ea",
   "metadata": {},
   "source": [
    "## 6 Write a function that adds Dense layers on top\n",
    "To complete the model, you will feed the last output tensor from the convolutional base (of shape (4, 4, 64)) into one or more Dense layers to perform classification. Dense layers take vectors as input (which are 1D), while the current output is a 3D tensor. First, you will flatten (or unroll) the 3D output to 1D, then add one or more Dense layers on top. CIFAR has 10 output classes, so you use a final Dense layer with 10 outputs.\n",
    "\n",
    "\n",
    "\n"
   ]
  },
  {
   "cell_type": "code",
   "execution_count": null,
   "id": "eb7a7597",
   "metadata": {},
   "outputs": [],
   "source": [
    "# --- Your code goes here"
   ]
  },
  {
   "cell_type": "markdown",
   "id": "dd0510d0",
   "metadata": {},
   "source": [
    "## 7 Compile and train your model\n",
    "To compile and train your model use the \"Adam\" optimizer, further and set \"loss=tf.keras.losses.SparseCategoricalCrossentropy(from_logits=True)\" and 10 epochs. Use the accuracy as for the metrics. Store your training history in history.\n",
    "\n",
    "To do this look at \n",
    "https://keras.io/api/models/model_training_apis/"
   ]
  },
  {
   "cell_type": "code",
   "execution_count": null,
   "id": "5ef449c0",
   "metadata": {},
   "outputs": [],
   "source": [
    "# --- Yur code goes here ----"
   ]
  },
  {
   "cell_type": "markdown",
   "id": "10c13d88",
   "metadata": {},
   "source": [
    "## 8 Evaluate the model by plotting the training and the calidation accuracy"
   ]
  },
  {
   "cell_type": "code",
   "execution_count": null,
   "id": "dd909e2b",
   "metadata": {},
   "outputs": [],
   "source": [
    "# --- Your code goes here ----"
   ]
  }
 ],
 "metadata": {
  "kernelspec": {
   "display_name": "Python 3 (ipykernel)",
   "language": "python",
   "name": "python3"
  },
  "language_info": {
   "codemirror_mode": {
    "name": "ipython",
    "version": 3
   },
   "file_extension": ".py",
   "mimetype": "text/x-python",
   "name": "python",
   "nbconvert_exporter": "python",
   "pygments_lexer": "ipython3",
   "version": "3.10.8"
  }
 },
 "nbformat": 4,
 "nbformat_minor": 5
}
