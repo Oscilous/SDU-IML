{
 "cells": [
  {
   "cell_type": "markdown",
   "id": "dac480bb",
   "metadata": {},
   "source": [
    "# Exercise 8 - Categorical Data and Hyperparameter-Tuning\n",
    "I will provide the required library imports for this task for you"
   ]
  },
  {
   "cell_type": "code",
   "execution_count": 5,
   "id": "9d8e0506",
   "metadata": {},
   "outputs": [],
   "source": [
    "import matplotlib.pyplot as plt\n",
    "import numpy as np\n",
    "import pandas as pd\n",
    "import tensorflow as tf\n",
    "# Use scikit-learn to grid search the batch size and epochs\n",
    "from sklearn.model_selection import GridSearchCV\n",
    "from tensorflow.keras.layers import Dense\n",
    "from scikeras.wrappers import KerasClassifier\n",
    "from sklearn.preprocessing import normalize\n",
    "from sklearn import preprocessing\n",
    "#Neural network module\n",
    "from keras.models import Sequential \n",
    "from keras.layers import Dense,Activation,Dropout \n",
    "from keras.utils import np_utils\n",
    "from keras.callbacks import EarlyStopping"
   ]
  },
  {
   "cell_type": "markdown",
   "id": "4787c023",
   "metadata": {},
   "source": [
    "## 1 Get and preprocess the data\n",
    "### 1.1 Read the data into a pandas data table"
   ]
  },
  {
   "cell_type": "code",
   "execution_count": 6,
   "id": "0889595e",
   "metadata": {},
   "outputs": [],
   "source": [
    "## --- your code goes here ---"
   ]
  },
  {
   "cell_type": "markdown",
   "id": "5c41958e",
   "metadata": {},
   "source": [
    "### 1.2 Change your categorical labels to numeric values\n",
    "Note that categorical data requires special handling. If either our input features or data labels are categorical values (eg \"apples\", \"oranges\", \"bananas\") we need to somehow transform them into numerical input or label values, respectively. For this we have two options:\n",
    "\n",
    "1) Encode the categories directly to numeric values (Example: Apple: 1, Orange: 2, Banana: 3) -> Disadvantage is that some categories then have larger values on the scale then others - unintentionally.\n",
    "2) Use One-hot encoding: Each category stands for a number of zeros equal to the overall number of categories minus one, embedding a single one entry for the chosen category:"
   ]
  },
  {
   "cell_type": "markdown",
   "id": "8addaab0",
   "metadata": {},
   "source": [
    "Example One-Hot Encoding\n",
    "\n",
    "Apple  0 0 1\n",
    "\n",
    "Orange 0 1 0\n",
    "\n",
    "Banana 1 0 0\n",
    "\n",
    "Use LabelEncoder to add another column containing the numeric label values. \n",
    "\n",
    "https://scikit-learn.org/stable/modules/generated/sklearn.preprocessing.LabelEncoder.html#sklearn.preprocessing.LabelEncoder"
   ]
  },
  {
   "cell_type": "code",
   "execution_count": 7,
   "id": "594050d1",
   "metadata": {},
   "outputs": [],
   "source": [
    "#---- Here comes your code ---"
   ]
  },
  {
   "cell_type": "markdown",
   "id": "30410fa2",
   "metadata": {},
   "source": [
    "## 1.3 Perform train-test-split and normalize"
   ]
  },
  {
   "cell_type": "code",
   "execution_count": 8,
   "id": "f6cd7e99",
   "metadata": {},
   "outputs": [],
   "source": [
    "## --- Your code goes here ---"
   ]
  },
  {
   "cell_type": "markdown",
   "id": "9cba915f",
   "metadata": {},
   "source": [
    "## 1.4 Create a function to create a model called create_model()\n",
    "- Define a Sequential model (the link below should be helpful)\n",
    "https://www.tensorflow.org/guide/keras/sequential_model\n",
    "https://www.tensorflow.org/api_docs/python/tf/keras/Sequential\n",
    "- Implement a neural network with one hidden layer\n",
    "    - Layer 1: 8 Neurons (ReLU activation)\n",
    "- Before returning the model compile the model choosing the appropriate loss function, set optimizer to \"adam\", and choose metrics=['accuracy']"
   ]
  },
  {
   "cell_type": "code",
   "execution_count": 9,
   "id": "330de86e",
   "metadata": {},
   "outputs": [],
   "source": [
    "#--- Your code goes here ---"
   ]
  },
  {
   "cell_type": "markdown",
   "id": "112f2993",
   "metadata": {},
   "source": [
    "## 1.5 Change the label to one hot vector"
   ]
  },
  {
   "cell_type": "code",
   "execution_count": 10,
   "id": "db557c3f",
   "metadata": {},
   "outputs": [],
   "source": [
    "# --- Your code goes here\n",
    "# Change the label to one hot vector\n",
    "\n",
    "#[0]->[1 0 0]\n",
    "#[1]->[0 1 0]\n",
    "#[2]->[0 0 1]\n"
   ]
  },
  {
   "cell_type": "markdown",
   "id": "f2f31cf1",
   "metadata": {},
   "source": [
    "## 1.6 Create and fit model and predict labels"
   ]
  },
  {
   "cell_type": "code",
   "execution_count": 11,
   "id": "1f012ce1",
   "metadata": {},
   "outputs": [],
   "source": [
    "# ---- your code goes here ---"
   ]
  },
  {
   "cell_type": "markdown",
   "id": "eb204483",
   "metadata": {},
   "source": [
    "## 1.7 Plot history"
   ]
  },
  {
   "cell_type": "code",
   "execution_count": 12,
   "id": "74a92e5b",
   "metadata": {},
   "outputs": [],
   "source": [
    "# --- Here goes your code ---"
   ]
  },
  {
   "cell_type": "markdown",
   "id": "e6b5e581",
   "metadata": {},
   "source": [
    "## 1.8 Use the sklearn GridSearchCV functionality for hyperparameter-tuning\n",
    "https://scikit-learn.org/stable/modules/generated/sklearn.model_selection.GridSearchCV.html\n",
    "https://scikit-learn.org/stable/modules/grid_search.html#grid-search\n",
    "\n",
    "Tune the hyperparameters batch_size (batch_size=[5,10,20]) and epochs (epochs = [10,50,100,200,300])"
   ]
  },
  {
   "cell_type": "code",
   "execution_count": 13,
   "id": "c8b7678e",
   "metadata": {},
   "outputs": [],
   "source": [
    "# --- Here goes your code ----"
   ]
  },
  {
   "cell_type": "markdown",
   "id": "57248d24",
   "metadata": {},
   "source": [
    "## 1.9 Summarize the results"
   ]
  },
  {
   "cell_type": "code",
   "execution_count": 14,
   "id": "00ca9f0d",
   "metadata": {},
   "outputs": [],
   "source": [
    "# --- Here goes your code"
   ]
  },
  {
   "cell_type": "markdown",
   "id": "17858b32",
   "metadata": {},
   "source": [
    "## 1.0 Fit and predict the tuned model"
   ]
  },
  {
   "cell_type": "code",
   "execution_count": 15,
   "id": "4c7b84a7",
   "metadata": {},
   "outputs": [],
   "source": [
    "# --- Here goes your code ---"
   ]
  },
  {
   "cell_type": "markdown",
   "id": "95f2e5ce",
   "metadata": {},
   "source": [
    "## 1.11 Now vary the number of layers, neurons and monitor the loss and the performance metrics - (this exercise will not be discussed)"
   ]
  },
  {
   "cell_type": "code",
   "execution_count": null,
   "id": "2f3ce543",
   "metadata": {},
   "outputs": [],
   "source": [
    "\n"
   ]
  },
  {
   "cell_type": "code",
   "execution_count": null,
   "id": "21ee5e20",
   "metadata": {},
   "outputs": [],
   "source": []
  },
  {
   "cell_type": "code",
   "execution_count": null,
   "id": "5ca15ad8",
   "metadata": {},
   "outputs": [],
   "source": []
  },
  {
   "cell_type": "code",
   "execution_count": null,
   "id": "43b5da8a",
   "metadata": {},
   "outputs": [],
   "source": []
  },
  {
   "cell_type": "code",
   "execution_count": null,
   "id": "afec395e",
   "metadata": {},
   "outputs": [],
   "source": []
  }
 ],
 "metadata": {
  "kernelspec": {
   "display_name": "Python 3 (ipykernel)",
   "language": "python",
   "name": "python3"
  },
  "language_info": {
   "codemirror_mode": {
    "name": "ipython",
    "version": 3
   },
   "file_extension": ".py",
   "mimetype": "text/x-python",
   "name": "python",
   "nbconvert_exporter": "python",
   "pygments_lexer": "ipython3",
   "version": "3.10.8"
  }
 },
 "nbformat": 4,
 "nbformat_minor": 5
}
