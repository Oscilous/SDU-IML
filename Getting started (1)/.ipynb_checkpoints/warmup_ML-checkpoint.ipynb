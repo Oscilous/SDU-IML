{
 "cells": [
  {
   "cell_type": "markdown",
   "id": "486c1af1",
   "metadata": {},
   "source": [
    "# Session 1: Warmup"
   ]
  },
  {
   "cell_type": "markdown",
   "id": "d8cb61b5",
   "metadata": {},
   "source": [
    "## Before starting\n",
    "Please watch this short introduction to Jupyter Notebooks: https://www.youtube.com/watch?v=jZ952vChhuI"
   ]
  },
  {
   "cell_type": "markdown",
   "id": "caa71dbf",
   "metadata": {},
   "source": [
    "## Load Python libraries"
   ]
  },
  {
   "cell_type": "code",
   "execution_count": 48,
   "id": "38657bbb",
   "metadata": {},
   "outputs": [],
   "source": [
    "import numpy as np\n",
    "from numpy import random\n",
    "import pandas as pd\n",
    "import matplotlib.pyplot as plt"
   ]
  },
  {
   "cell_type": "markdown",
   "id": "70d052a0",
   "metadata": {},
   "source": [
    "## 1. Introduction to numpy\n",
    "Numerical Python (NumPy) is built on linear algebra. It is mainly used to perform mathematical calculations on vectors and matrices. "
   ]
  },
  {
   "cell_type": "code",
   "execution_count": 9,
   "id": "c3bf3451",
   "metadata": {},
   "outputs": [
    {
     "name": "stdout",
     "output_type": "stream",
     "text": [
      "(3,)\n",
      "4\n",
      "1\n",
      "4\n"
     ]
    }
   ],
   "source": [
    "#---------------------------------------------------\n",
    "# Given the vector\n",
    "a = np.array([2, 1, 4])\n",
    "# with shape:\n",
    "print(a.shape)\n",
    "lenght = a.shape\n",
    "\n",
    "# Ex.1.1\n",
    "# Access to column value at position pos=2 using a[pos]\n",
    "# Be aware that indexes in NumPy arrays start with 0, meaning that the first element has index 0, and the second has index 1, ...\n",
    "print(a[2])\n",
    "\n",
    "# Ex.1.2\n",
    "# Access to the values from inititial position ini_pos=2 until the end of the vector final_pos = a.shape[-1] using a[initial_pos:final_pos]\n",
    "# Note that the final raw or column of an array can be accesed by index -1\n",
    "\n",
    "initPos = 2\n",
    "final_pos = a.shape[-1]\n",
    "for i in range(initPos - 1, final_pos):\n",
    "    print(a[i])\n",
    "\n",
    "# Check the data format of vector \"a\" by using type(a). Do the same for \"a.shape\". \n",
    "#For more information go to: https://www.w3schools.com/python/python_datatypes.asp\n"
   ]
  },
  {
   "cell_type": "code",
   "execution_count": 25,
   "id": "31b73e48",
   "metadata": {},
   "outputs": [
    {
     "name": "stdout",
     "output_type": "stream",
     "text": [
      "[[ 1  2  3]\n",
      " [ 8  9 10]\n",
      " [11 12 13]]\n",
      "9\n",
      "9\n",
      "[ 2  9 12]\n",
      "[ 1  9 13]\n",
      "[ 8 12]\n",
      "[ 2 10] \n",
      "\n",
      "transpose with funcion: \n",
      "[[ 1  8 11]\n",
      " [ 2  9 12]\n",
      " [ 3 10 13]]\n",
      "\n",
      "transpose with method: \n",
      "[[ 1  8 11]\n",
      " [ 2  9 12]\n",
      " [ 3 10 13]]\n",
      "\n"
     ]
    }
   ],
   "source": [
    "#---------------------------------------------------\n",
    "# Ex.1.3\n",
    "# Given the matrix\n",
    "X = np.array([[1, 2, 3], [8, 9, 10],[ 11, 12, 13]])\n",
    "print(X)\n",
    "\n",
    "# Access to all the elements at column 2 using X[:,column]\n",
    "\n",
    "#First one is the numpy version, second is how default python would do\n",
    "print(X[1,1])\n",
    "print(X[1][1])\n",
    "print(X[:, 1])\n",
    "\n",
    "\n",
    "# numpy uses the \":\" mark to access to all the elements of a column or a row \n",
    "# Access only to the diagonal using np.diag()\n",
    "\n",
    "print(np.diag(X))\n",
    "\n",
    "#this is the offset for to get diagonal  values\n",
    "print(np.diag(X, -1))\n",
    "print(np.diag(X, 1), \"\\n\")\n",
    "# Transpose the matrix using both np.transpose() and X.T\n",
    "\n",
    "print(f\"transpose with funcion: \\n{np.transpose(X)}\\n\")\n",
    "print(f\"transpose with method: \\n{X.T}\\n\")"
   ]
  },
  {
   "cell_type": "code",
   "execution_count": 28,
   "id": "02ea8164",
   "metadata": {},
   "outputs": [
    {
     "name": "stdout",
     "output_type": "stream",
     "text": [
      "a: \n",
      "[2 1 4]\n",
      "\n",
      "a: \n",
      "[[ 1  2  3]\n",
      " [ 8  9 10]\n",
      " [11 12 13]]\n",
      "\n",
      "multiplied: \n",
      "[[ 2  2 12]\n",
      " [16  9 40]\n",
      " [22 12 52]]\n",
      "\n",
      "dot wise multiplication: \n",
      "[54 61 68]\n",
      "\n"
     ]
    }
   ],
   "source": [
    "#--------------------------------------------------\n",
    "# Ex.1.4\n",
    "# Perform an element wise multiplication (*) between a and X\n",
    "print(f\"a: \\n{a}\\n\")\n",
    "print(f\"a: \\n{X}\\n\")\n",
    "print(f\"multiplied: \\n{a*X}\\n\")\n",
    "# Perform a dot wise multiplication between a and X using np.dot(vector1,vector2)\n",
    "print(f\"dot wise multiplication: \\n{np.dot(a,X)}\\n\")"
   ]
  },
  {
   "cell_type": "code",
   "execution_count": 33,
   "id": "c4c9013c",
   "metadata": {},
   "outputs": [
    {
     "name": "stdout",
     "output_type": "stream",
     "text": [
      "a = \n",
      "[[2 1 4]]\n",
      "\n",
      "Y: \n",
      "[[ 1  2  3]\n",
      " [ 8  9 10]\n",
      " [11 12 13]\n",
      " [ 2  1  4]]\n",
      "\n",
      "Appened: \n",
      "[ 1  2  3  8  9 10 11 12 13  2  1  4]\n",
      "\n"
     ]
    }
   ],
   "source": [
    "#--------------------------------------------------\n",
    "# Let us redefine vector \"a\" as a vector with 1 row and |a| columns\n",
    "a = a.reshape((1,a.shape[-1]))\n",
    "print(f\"a = \\n{a}\\n\")\n",
    "# Ex.1.5\n",
    "# Create a new matrix Y, where 'a' is added as the last row of matrix X\n",
    "# Use np.concatenate((X,a), axis = 0) \n",
    "\n",
    "Y = np.concatenate((X,a), axis = 0)\n",
    "print(f\"Y: \\n{Y}\\n\")\n",
    "# Review the function of 'axis' in https://numpy.org/doc/stable/reference/generated/numpy.concatenate.html\n",
    "\n",
    "# Ex.1.6\n",
    "# Append 'a' as the last column of matrix X\n",
    "\n",
    "print(f\"Appened: \\n{np.append(X, a)}\\n\")"
   ]
  },
  {
   "cell_type": "markdown",
   "id": "891d3201",
   "metadata": {},
   "source": [
    "## 2. Introduction to Pandas\n",
    "This is a library for data manipulation and analysis using more powerful data structures than NumPy. "
   ]
  },
  {
   "cell_type": "code",
   "execution_count": 34,
   "id": "8222cdd3",
   "metadata": {},
   "outputs": [
    {
     "data": {
      "text/html": [
       "<div>\n",
       "<style scoped>\n",
       "    .dataframe tbody tr th:only-of-type {\n",
       "        vertical-align: middle;\n",
       "    }\n",
       "\n",
       "    .dataframe tbody tr th {\n",
       "        vertical-align: top;\n",
       "    }\n",
       "\n",
       "    .dataframe thead th {\n",
       "        text-align: right;\n",
       "    }\n",
       "</style>\n",
       "<table border=\"1\" class=\"dataframe\">\n",
       "  <thead>\n",
       "    <tr style=\"text-align: right;\">\n",
       "      <th></th>\n",
       "      <th>Col1</th>\n",
       "      <th>Col2</th>\n",
       "    </tr>\n",
       "  </thead>\n",
       "  <tbody>\n",
       "    <tr>\n",
       "      <th>Row1</th>\n",
       "      <td>1</td>\n",
       "      <td>2</td>\n",
       "    </tr>\n",
       "    <tr>\n",
       "      <th>Row2</th>\n",
       "      <td>3</td>\n",
       "      <td>4</td>\n",
       "    </tr>\n",
       "  </tbody>\n",
       "</table>\n",
       "</div>"
      ],
      "text/plain": [
       "      Col1  Col2\n",
       "Row1     1     2\n",
       "Row2     3     4"
      ]
     },
     "execution_count": 34,
     "metadata": {},
     "output_type": "execute_result"
    }
   ],
   "source": [
    "# Creating a Pandas DataFrame\n",
    "column_names = ['Col1','Col2']\n",
    "raw_names = ['Row1','Row2']\n",
    "data = np.array([[1,2],[3,4]])\n",
    "df = pd.DataFrame(data = data, index = raw_names, columns = column_names)\n",
    "df"
   ]
  },
  {
   "cell_type": "code",
   "execution_count": 74,
   "id": "e0420e36",
   "metadata": {},
   "outputs": [
    {
     "data": {
      "text/html": [
       "<div>\n",
       "<style scoped>\n",
       "    .dataframe tbody tr th:only-of-type {\n",
       "        vertical-align: middle;\n",
       "    }\n",
       "\n",
       "    .dataframe tbody tr th {\n",
       "        vertical-align: top;\n",
       "    }\n",
       "\n",
       "    .dataframe thead th {\n",
       "        text-align: right;\n",
       "    }\n",
       "</style>\n",
       "<table border=\"1\" class=\"dataframe\">\n",
       "  <thead>\n",
       "    <tr style=\"text-align: right;\">\n",
       "      <th></th>\n",
       "      <th>mean</th>\n",
       "      <th>std</th>\n",
       "      <th>max</th>\n",
       "      <th>min</th>\n",
       "    </tr>\n",
       "  </thead>\n",
       "  <tbody>\n",
       "    <tr>\n",
       "      <th>0</th>\n",
       "      <td>320</td>\n",
       "      <td>226</td>\n",
       "      <td>923</td>\n",
       "      <td>311</td>\n",
       "    </tr>\n",
       "    <tr>\n",
       "      <th>1</th>\n",
       "      <td>489</td>\n",
       "      <td>314</td>\n",
       "      <td>516</td>\n",
       "      <td>321</td>\n",
       "    </tr>\n",
       "    <tr>\n",
       "      <th>2</th>\n",
       "      <td>819</td>\n",
       "      <td>305</td>\n",
       "      <td>468</td>\n",
       "      <td>989</td>\n",
       "    </tr>\n",
       "    <tr>\n",
       "      <th>3</th>\n",
       "      <td>789</td>\n",
       "      <td>995</td>\n",
       "      <td>749</td>\n",
       "      <td>686</td>\n",
       "    </tr>\n",
       "    <tr>\n",
       "      <th>4</th>\n",
       "      <td>525</td>\n",
       "      <td>171</td>\n",
       "      <td>34</td>\n",
       "      <td>439</td>\n",
       "    </tr>\n",
       "    <tr>\n",
       "      <th>5</th>\n",
       "      <td>764</td>\n",
       "      <td>607</td>\n",
       "      <td>151</td>\n",
       "      <td>372</td>\n",
       "    </tr>\n",
       "    <tr>\n",
       "      <th>6</th>\n",
       "      <td>761</td>\n",
       "      <td>980</td>\n",
       "      <td>596</td>\n",
       "      <td>269</td>\n",
       "    </tr>\n",
       "    <tr>\n",
       "      <th>7</th>\n",
       "      <td>303</td>\n",
       "      <td>896</td>\n",
       "      <td>576</td>\n",
       "      <td>100</td>\n",
       "    </tr>\n",
       "    <tr>\n",
       "      <th>8</th>\n",
       "      <td>601</td>\n",
       "      <td>212</td>\n",
       "      <td>225</td>\n",
       "      <td>596</td>\n",
       "    </tr>\n",
       "    <tr>\n",
       "      <th>9</th>\n",
       "      <td>814</td>\n",
       "      <td>695</td>\n",
       "      <td>601</td>\n",
       "      <td>169</td>\n",
       "    </tr>\n",
       "  </tbody>\n",
       "</table>\n",
       "</div>"
      ],
      "text/plain": [
       "   mean  std  max  min\n",
       "0   320  226  923  311\n",
       "1   489  314  516  321\n",
       "2   819  305  468  989\n",
       "3   789  995  749  686\n",
       "4   525  171   34  439\n",
       "5   764  607  151  372\n",
       "6   761  980  596  269\n",
       "7   303  896  576  100\n",
       "8   601  212  225  596\n",
       "9   814  695  601  169"
      ]
     },
     "execution_count": 74,
     "metadata": {},
     "output_type": "execute_result"
    }
   ],
   "source": [
    "# Ex.2.1\n",
    "# Create an 10x4 (10 rows x 4 columns) pandas DataFrame in which the columns are named mean, std, max, and min.\n",
    "\n",
    "column_names = ['mean','std','max', 'min']\n",
    "data = random.randint(1000, size=(10, 4))\n",
    "myDF = pd.DataFrame(data = data, columns = column_names)\n",
    "myDF\n",
    "# Populate each of the 12 cells in the DataFrame with a random integer between 0 and 1000\n",
    "# Use the command np.random.randint for the random integer generation, check the description here https://numpy.org/doc/stable/reference/random/generated/numpy.random.randint.html\n"
   ]
  },
  {
   "cell_type": "code",
   "execution_count": 82,
   "id": "19908898",
   "metadata": {},
   "outputs": [
    {
     "name": "stdout",
     "output_type": "stream",
     "text": [
      "mean    320\n",
      "std     226\n",
      "max     923\n",
      "min     311\n",
      "Name: 0, dtype: int32\n",
      "\n",
      "0    320\n",
      "1    489\n",
      "2    819\n",
      "3    789\n",
      "4    525\n",
      "5    764\n",
      "6    761\n",
      "7    303\n",
      "8    601\n",
      "9    814\n",
      "Name: mean, dtype: int32\n",
      "\n",
      "2\n"
     ]
    }
   ],
   "source": [
    "# Ex.2.2\n",
    "# Access to all the values of the first row using df.loc[row]\n",
    "print(myDF.loc[0])\n",
    "\n",
    "# Access to all the values of the first column \"mean\" using df[column_name]\n",
    "print(f\"\\n{myDF['mean']}\\n\")\n",
    "\n",
    "# Access to the values in row 0 column 2 using df.iloc[row,column]\n",
    "print(df.iloc[0,1])"
   ]
  },
  {
   "cell_type": "markdown",
   "id": "ee91be81",
   "metadata": {},
   "source": [
    "## Introduction to Matplotlib"
   ]
  },
  {
   "cell_type": "code",
   "execution_count": 79,
   "id": "1156c669",
   "metadata": {},
   "outputs": [
    {
     "data": {
      "image/png": "[encoded data removed]",
      "text/plain": [
       "<Figure size 640x480 with 1 Axes>"
      ]
     },
     "metadata": {},
     "output_type": "display_data"
    }
   ],
   "source": [
    "# Ploting Pandas data\n",
    "myDF['mean'].plot()\n",
    "myDF['std'].plot()\n",
    "plt.xlabel(\"x axis\")\n",
    "plt.ylabel(\"y axis\")\n",
    "plt.title(\"Line Graph Example\")\n",
    "plt.legend()\n",
    "plt.show()"
   ]
  },
  {
   "cell_type": "code",
   "execution_count": null,
   "id": "d28c26fd",
   "metadata": {},
   "outputs": [],
   "source": []
  }
 ],
 "metadata": {
  "kernelspec": {
   "display_name": "Python 3 (ipykernel)",
   "language": "python",
   "name": "python3"
  },
  "language_info": {
   "codemirror_mode": {
    "name": "ipython",
    "version": 3
   },
   "file_extension": ".py",
   "mimetype": "text/x-python",
   "name": "python",
   "nbconvert_exporter": "python",
   "pygments_lexer": "ipython3",
   "version": "3.9.13"
  },
  "vscode": {
   "interpreter": {
    "hash": "0c7301f2ff9b2c18b10da20ab50eb0eeaa7bf6286486402a17588a091c6541ce"
   }
  }
 },
 "nbformat": 4,
 "nbformat_minor": 5
}
